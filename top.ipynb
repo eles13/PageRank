{
 "cells": [
  {
   "cell_type": "code",
   "execution_count": 3,
   "metadata": {},
   "outputs": [],
   "source": [
    "import numpy as np\n",
    "import operator"
   ]
  },
  {
   "cell_type": "code",
   "execution_count": 4,
   "metadata": {},
   "outputs": [],
   "source": [
    "finpg = open('./res/prsteps/it10/part-r-00000')\n",
    "def getline():\n",
    "    global finpg\n",
    "    while True:\n",
    "        line = finpg.readline()\n",
    "        if line == '':\n",
    "            break\n",
    "        line = line.split('\\t')\n",
    "        yield line[0],line[1]\n",
    "ranks = {}\n",
    "for uid, pr in getline():\n",
    "    ranks[uid] = float(pr)\n",
    "finpg.close()\n",
    "maxids = []\n",
    "for i in range(30):\n",
    "    found = max(ranks.items(), key = operator.itemgetter(1))[0]\n",
    "    maxids.append(found)\n",
    "    ranks.pop(found)"
   ]
  },
  {
   "cell_type": "code",
   "execution_count": 17,
   "metadata": {},
   "outputs": [
    {
     "name": "stdout",
     "output_type": "stream",
     "text": [
      "['384561', '127109', '421518', '9392', '151185', '40861', '53049', '395976', '57740', '312126', '493453', '557578', '407656', '522713', '84445', '94029', '294200', '155532', '472185', '78936', '198432', '275747', '516741', '287960', '562529', '177841', '241669', '257301', '347985', '465061']\n"
     ]
    }
   ],
   "source": [
    "print(maxids)"
   ]
  },
  {
   "cell_type": "code",
   "execution_count": 5,
   "metadata": {},
   "outputs": [],
   "source": [
    "urls = {}\n",
    "with open('./all/urls.txt') as fin:\n",
    "    line = fin.readline()\n",
    "    while line != '':\n",
    "        line = line.split('\\t')\n",
    "        urls[line[0]] = line[1]\n",
    "        line = fin.readline()"
   ]
  },
  {
   "cell_type": "code",
   "execution_count": 7,
   "metadata": {},
   "outputs": [],
   "source": [
    "with open('top30pr.txt','w') as fout:\n",
    "    for url in maxids:\n",
    "        fout.write(urls[url])"
   ]
  },
  {
   "cell_type": "code",
   "execution_count": 10,
   "metadata": {},
   "outputs": [],
   "source": [
    "finht = open('./res/hub/it10/part-r-00000')\n",
    "def getline():\n",
    "    global finht\n",
    "    while True:\n",
    "        line = finht.readline()\n",
    "        if line == '':\n",
    "            break\n",
    "        line = line.split('\\t')\n",
    "        yield line[0],line[1],line[2]\n",
    "auts = {}\n",
    "hubs = {}\n",
    "for uid, aut, hub in getline():\n",
    "    auts[uid] = float(aut)\n",
    "    hubs[uid] = float(hub)\n",
    "finht.close()\n",
    "maxa = []\n",
    "maxh = []\n",
    "auts.pop('N')\n",
    "hubs.pop('N')\n",
    "for i in range(30):\n",
    "    founda = max(auts.items(), key = operator.itemgetter(1))[0]\n",
    "    foundh = max(hubs.items(), key = operator.itemgetter(1))[0]\n",
    "    maxa.append(founda)\n",
    "    maxh.append(foundh)\n",
    "    auts.pop(founda)\n",
    "    hubs.pop(foundh)"
   ]
  },
  {
   "cell_type": "code",
   "execution_count": 11,
   "metadata": {},
   "outputs": [],
   "source": [
    "with open('top30hts.txt','w') as fout:\n",
    "    fout.write('Authors\\n')\n",
    "    for url in maxa:\n",
    "        fout.write(urls[url])\n",
    "    fout.write('Hubs\\n')\n",
    "    for url in maxh:\n",
    "        fout.write(urls[url])"
   ]
  },
  {
   "cell_type": "code",
   "execution_count": null,
   "metadata": {},
   "outputs": [],
   "source": []
  }
 ],
 "metadata": {
  "kernelspec": {
   "display_name": "Python 3",
   "language": "python",
   "name": "python3"
  },
  "language_info": {
   "codemirror_mode": {
    "name": "ipython",
    "version": 3
   },
   "file_extension": ".py",
   "mimetype": "text/x-python",
   "name": "python",
   "nbconvert_exporter": "python",
   "pygments_lexer": "ipython3",
   "version": "3.7.5"
  }
 },
 "nbformat": 4,
 "nbformat_minor": 2
}
